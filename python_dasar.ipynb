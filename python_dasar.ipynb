{
 "cells": [
  {
   "cell_type": "markdown",
   "id": "c7fbb106",
   "metadata": {},
   "source": [
    "## **Perintah Dasar Python** \n",
    "\n",
    "Untuk menguji dan menjalankan Python dari baris perintah. Di Jupyter Notebook ini,  akan mensimulasikannya. Anda dapat mengetikkan perintah di kolom dan menjalankannya."
   ]
  },
  {
   "cell_type": "markdown",
   "id": "07c01a91",
   "metadata": {},
   "source": [
    "print('Hello, World')"
   ]
  },
  {
   "cell_type": "markdown",
   "id": "e8f2daa2",
   "metadata": {},
   "source": [
    "Penulisan Python yang benar meliputi sifat case-sensitive (huruf besar/kecil berbeda), penggunaan indentasi untuk mendefinisikan blok kode, penempatan titik dua (:) untuk memulai blok, penulisan komentar dengan tanda pagar (#), serta penamaan identifier yang dimulai dengan huruf atau underscore dan tidak boleh menggunakan keyword Python"
   ]
  },
  {
   "cell_type": "code",
   "execution_count": null,
   "id": "89e502ff",
   "metadata": {},
   "outputs": [],
   "source": [
    "# penulisan perintah python\n",
    "print(\"Mary had a little lamb\")\n",
    "print(\"it's fleece was white as snow;\")\n",
    "print(\"and everywhere that Mary went\", end = \" \")\n",
    "print(\"her lamb was sure to go.\")"
   ]
  },
  {
   "cell_type": "markdown",
   "id": "de441785",
   "metadata": {},
   "source": [
    "## Running External Code\n",
    "\n",
    "Saat Anda mulai mengembangkan kode yang lebih ekstensif, Anda kemungkinan akan mendapati diri Anda bekerja di IPython untuk eksplorasi interaktif, serta editor teks untuk menyimpan kode yang ingin Anda gunakan kembali. Daripada menjalankan kode ini di jendela baru, akan lebih mudah untuk menjalankannya di dalam sesi IPython Anda. Ini dapat dilakukan dengan perintah %run.\n",
    "\n",
    "file test.py\n",
    "\n",
    "```python\n",
    "`def square(x):\n",
    "    \"\"\"square a number\"\"\"\n",
    "    return x ** 2\n",
    "\n",
    "for N in range(1, 4):\n",
    "    print(N, \"squared is\", square(N))`\n",
    "```"
   ]
  },
  {
   "cell_type": "code",
   "execution_count": null,
   "id": "113e3d0c",
   "metadata": {},
   "outputs": [],
   "source": [
    "%run test.py"
   ]
  },
  {
   "cell_type": "markdown",
   "id": "275a1c72",
   "metadata": {},
   "source": [
    "Perhatikan juga bahwa setelah Anda menjalankan skrip ini, fungsi apa pun yang didefinisikan di dalamnya tersedia untuk digunakan dalam sesi IPython Anda:"
   ]
  },
  {
   "cell_type": "code",
   "execution_count": null,
   "id": "48da5595",
   "metadata": {},
   "outputs": [],
   "source": [
    "square(5)"
   ]
  },
  {
   "cell_type": "code",
   "execution_count": null,
   "id": "8a833226",
   "metadata": {},
   "outputs": [],
   "source": [
    "%timeit L = [n ** 2 for n in range(1000)]"
   ]
  },
  {
   "cell_type": "markdown",
   "id": "de33eeb4",
   "metadata": {},
   "source": [
    "## Timing Code Execution\n",
    "\n",
    "Contoh lain dari fungsi ajaib yang berguna adalah %timeit, yang secara otomatis akan menentukan waktu eksekusi pernyataan Python satu baris setelahnya. Misalnya, kita mungkin ingin memeriksa kinerja looping"
   ]
  },
  {
   "cell_type": "code",
   "execution_count": 1,
   "id": "1531e249",
   "metadata": {},
   "outputs": [
    {
     "name": "stdout",
     "output_type": "stream",
     "text": [
      "47.5 μs ± 1.94 μs per loop (mean ± std. dev. of 7 runs, 10,000 loops each)\n"
     ]
    }
   ],
   "source": [
    "%timeit L = [n ** 2 for n in range(1000)]"
   ]
  },
  {
   "cell_type": "markdown",
   "id": "77a22d07-43f3-448e-9ef8-c49dfd325416",
   "metadata": {},
   "source": [
    "%%timeit\n",
    "   ...: L = []\n",
    "   ...: for n in range(1000):\n",
    "   ...:     L.append(n ** 2)\n",
    "   ...: "
   ]
  },
  {
   "cell_type": "markdown",
   "id": "b53690d9-578e-49bf-8609-bf7298b18204",
   "metadata": {},
   "source": [
    "## Errors and Debugging\n",
    "\n",
    "Pengembangan kode dan analisis data selalu membutuhkan sedikit uji coba, dan IPython menyediakan alat untuk menyederhanakan proses ini. Bagian ini akan membahas secara singkat beberapa opsi untuk mengontrol pelaporan pengecualian Python, diikuti dengan eksplorasi alat untuk men-debug kesalahan dalam kode."
   ]
  },
  {
   "cell_type": "markdown",
   "id": "37a4920c-9462-45e3-9d61-00feb883765f",
   "metadata": {},
   "source": [
    "## Controlling Exceptions: %xmode\n",
    "\n",
    "Sering kali, ketika skrip Python gagal, ia akan memunculkan Exception. Ketika interpreter menemukan salah satu exception ini, informasi tentang penyebab kesalahan dapat ditemukan di traceback , yang dapat diakses dari dalam Python. Dengan %xmodefungsi magic, IPython memungkinkan Anda mengontrol jumlah informasi yang dicetak ketika exception dimunculkan. Perhatikan kode berikut:"
   ]
  },
  {
   "cell_type": "code",
   "execution_count": 3,
   "id": "c39aa56e-2ae5-4989-8127-2dcf8d4dc10b",
   "metadata": {},
   "outputs": [],
   "source": [
    "def func1(a, b):\n",
    "    return a / b\n",
    "\n",
    "def func2(x):\n",
    "    a = x\n",
    "    b = x - 1\n",
    "    return func1(a, b)"
   ]
  },
  {
   "cell_type": "code",
   "execution_count": 5,
   "id": "a93857f2-d416-4e5a-a240-21e51dab3cd8",
   "metadata": {},
   "outputs": [
    {
     "data": {
      "text/plain": [
       "2.0"
      ]
     },
     "execution_count": 5,
     "metadata": {},
     "output_type": "execute_result"
    }
   ],
   "source": [
    "func1(4,2)"
   ]
  },
  {
   "cell_type": "code",
   "execution_count": 6,
   "id": "9843769a-dc9d-4bed-91be-58f3f0d22f9d",
   "metadata": {},
   "outputs": [
    {
     "ename": "ZeroDivisionError",
     "evalue": "division by zero",
     "output_type": "error",
     "traceback": [
      "\u001b[31m---------------------------------------------------------------------------\u001b[39m",
      "\u001b[31mZeroDivisionError\u001b[39m                         Traceback (most recent call last)",
      "\u001b[36mCell\u001b[39m\u001b[36m \u001b[39m\u001b[32mIn[6]\u001b[39m\u001b[32m, line 1\u001b[39m\n\u001b[32m----> \u001b[39m\u001b[32m1\u001b[39m \u001b[43mfunc2\u001b[49m\u001b[43m(\u001b[49m\u001b[32;43m1\u001b[39;49m\u001b[43m)\u001b[49m\n",
      "\u001b[36mCell\u001b[39m\u001b[36m \u001b[39m\u001b[32mIn[4]\u001b[39m\u001b[32m, line 7\u001b[39m, in \u001b[36mfunc2\u001b[39m\u001b[34m(x=1)\u001b[39m\n\u001b[32m      5\u001b[39m a = x\n\u001b[32m      6\u001b[39m b = x - \u001b[32m1\u001b[39m\n\u001b[32m----> \u001b[39m\u001b[32m7\u001b[39m \u001b[38;5;28;01mreturn\u001b[39;00m \u001b[43mfunc1\u001b[49m\u001b[43m(\u001b[49m\u001b[43ma\u001b[49m\u001b[43m,\u001b[49m\u001b[43m \u001b[49m\u001b[43mb\u001b[49m\u001b[43m)\u001b[49m\n        a \u001b[34m= \u001b[39m\u001b[34m1\u001b[39m\n        b \u001b[34m= \u001b[39m\u001b[34m0\u001b[39m",
      "\u001b[36mCell\u001b[39m\u001b[36m \u001b[39m\u001b[32mIn[4]\u001b[39m\u001b[32m, line 2\u001b[39m, in \u001b[36mfunc1\u001b[39m\u001b[34m(a=1, b=0)\u001b[39m\n\u001b[32m      1\u001b[39m \u001b[38;5;28;01mdef\u001b[39;00m\u001b[38;5;250m \u001b[39m\u001b[34mfunc1\u001b[39m(a, b):\n\u001b[32m----> \u001b[39m\u001b[32m2\u001b[39m     \u001b[38;5;28;01mreturn\u001b[39;00m \u001b[43ma\u001b[49m\u001b[43m \u001b[49m\u001b[43m/\u001b[49m\u001b[43m \u001b[49m\u001b[43mb\u001b[49m\n        a \u001b[34m= \u001b[39m\u001b[34m1\u001b[39m\n        b \u001b[34m= \u001b[39m\u001b[34m0\u001b[39m",
      "\u001b[31mZeroDivisionError\u001b[39m: division by zero"
     ]
    }
   ],
   "source": [
    "func2(1)"
   ]
  },
  {
   "cell_type": "markdown",
   "id": "7dbf01de-ec07-4784-bd83-501b6f0c651d",
   "metadata": {},
   "source": [
    "Pemanggilan func2 menghasilkan kesalahan, dan membaca jejak yang tercetak memungkinkan kita melihat dengan tepat apa yang terjadi. Secara default, jejak ini mencakup beberapa baris yang menunjukkan konteks setiap langkah yang menyebabkan kesalahan. Dengan menggunakan %xmodefungsi magic (singkatan dari Exception mode ), kita dapat mengubah informasi yang tercetak.\n",
    "\n",
    "%xmode mengambil satu argumen, yaitu modus, dan ada tiga kemungkinan: Plain, Context, dan Verbose. Nilai defaultnya adalah Context, dan memberikan keluaran seperti yang baru saja ditunjukkan sebelumnya. Plainlebih ringkas dan memberikan lebih sedikit informasi:"
   ]
  },
  {
   "cell_type": "code",
   "execution_count": 7,
   "id": "37334e7d-3ddb-4240-8efe-78ea58f443b3",
   "metadata": {},
   "outputs": [
    {
     "name": "stdout",
     "output_type": "stream",
     "text": [
      "Exception reporting mode: Plain\n"
     ]
    }
   ],
   "source": [
    "%xmode Plain"
   ]
  },
  {
   "cell_type": "code",
   "execution_count": 8,
   "id": "e9d043ec-4fb4-42e3-a759-7105f9150307",
   "metadata": {},
   "outputs": [
    {
     "ename": "ZeroDivisionError",
     "evalue": "division by zero",
     "output_type": "error",
     "traceback": [
      "Traceback \u001b[36m(most recent call last)\u001b[39m:\n",
      "  Cell \u001b[92mIn[8]\u001b[39m\u001b[92m, line 1\u001b[39m\n    func2(1)\n",
      "  Cell \u001b[92mIn[4]\u001b[39m\u001b[92m, line 7\u001b[39m in \u001b[95mfunc2\u001b[39m\n    return func1(a, b)\n",
      "\u001b[36m  \u001b[39m\u001b[36mCell\u001b[39m\u001b[36m \u001b[39m\u001b[32mIn[4]\u001b[39m\u001b[32m, line 2\u001b[39m\u001b[36m in \u001b[39m\u001b[35mfunc1\u001b[39m\n\u001b[31m    \u001b[39m\u001b[31mreturn a / b\u001b[39m\n",
      "\u001b[31mZeroDivisionError\u001b[39m\u001b[31m:\u001b[39m division by zero\n"
     ]
    }
   ],
   "source": [
    "func2(1)"
   ]
  },
  {
   "cell_type": "markdown",
   "id": "55bc8e66-fc10-46b7-adcf-6099943ff0b2",
   "metadata": {},
   "source": [
    "Modus ini Verbosemenambahkan beberapa informasi tambahan, termasuk argumen ke fungsi apa pun yang dipanggil:"
   ]
  },
  {
   "cell_type": "code",
   "execution_count": 10,
   "id": "552c933a-f2f3-416b-aca4-75a21ad77ad1",
   "metadata": {},
   "outputs": [
    {
     "name": "stdout",
     "output_type": "stream",
     "text": [
      "Exception reporting mode: Verbose\n"
     ]
    }
   ],
   "source": [
    "%xmode Verbose"
   ]
  },
  {
   "cell_type": "code",
   "execution_count": 11,
   "id": "4346624b-7064-4f51-a413-b8777ff55d8c",
   "metadata": {},
   "outputs": [
    {
     "ename": "ZeroDivisionError",
     "evalue": "division by zero",
     "output_type": "error",
     "traceback": [
      "\u001b[31m---------------------------------------------------------------------------\u001b[39m",
      "\u001b[31mZeroDivisionError\u001b[39m                         Traceback (most recent call last)",
      "\u001b[36mCell\u001b[39m\u001b[36m \u001b[39m\u001b[32mIn[11]\u001b[39m\u001b[32m, line 1\u001b[39m\n\u001b[32m----> \u001b[39m\u001b[32m1\u001b[39m \u001b[43mfunc2\u001b[49m\u001b[43m(\u001b[49m\u001b[32;43m1\u001b[39;49m\u001b[43m)\u001b[49m\n",
      "\u001b[36mCell\u001b[39m\u001b[36m \u001b[39m\u001b[32mIn[4]\u001b[39m\u001b[32m, line 7\u001b[39m, in \u001b[36mfunc2\u001b[39m\u001b[34m(x=1)\u001b[39m\n\u001b[32m      5\u001b[39m a = x\n\u001b[32m      6\u001b[39m b = x - \u001b[32m1\u001b[39m\n\u001b[32m----> \u001b[39m\u001b[32m7\u001b[39m \u001b[38;5;28;01mreturn\u001b[39;00m \u001b[43mfunc1\u001b[49m\u001b[43m(\u001b[49m\u001b[43ma\u001b[49m\u001b[43m,\u001b[49m\u001b[43m \u001b[49m\u001b[43mb\u001b[49m\u001b[43m)\u001b[49m\n        a \u001b[34m= \u001b[39m\u001b[34m1\u001b[39m\n        b \u001b[34m= \u001b[39m\u001b[34m0\u001b[39m",
      "\u001b[36mCell\u001b[39m\u001b[36m \u001b[39m\u001b[32mIn[4]\u001b[39m\u001b[32m, line 2\u001b[39m, in \u001b[36mfunc1\u001b[39m\u001b[34m(a=1, b=0)\u001b[39m\n\u001b[32m      1\u001b[39m \u001b[38;5;28;01mdef\u001b[39;00m\u001b[38;5;250m \u001b[39m\u001b[34mfunc1\u001b[39m(a, b):\n\u001b[32m----> \u001b[39m\u001b[32m2\u001b[39m     \u001b[38;5;28;01mreturn\u001b[39;00m \u001b[43ma\u001b[49m\u001b[43m \u001b[49m\u001b[43m/\u001b[49m\u001b[43m \u001b[49m\u001b[43mb\u001b[49m\n        a \u001b[34m= \u001b[39m\u001b[34m1\u001b[39m\n        b \u001b[34m= \u001b[39m\u001b[34m0\u001b[39m",
      "\u001b[31mZeroDivisionError\u001b[39m: division by zero"
     ]
    }
   ],
   "source": [
    "func2(1)"
   ]
  },
  {
   "cell_type": "markdown",
   "id": "1e02e045-8535-4c96-b714-3d2d6757d314",
   "metadata": {},
   "source": [
    "Informasi tambahan ini dapat membantu mempersempit alasan munculnya pengecualian. Jadi, mengapa tidak menggunakan Verbosemode setiap saat? Seiring kode menjadi rumit, traceback semacam ini bisa menjadi sangat panjang. Tergantung konteksnya, terkadang Defaultmode yang singkat lebih mudah dipahami."
   ]
  },
  {
   "cell_type": "markdown",
   "id": "d9c0f66e-1c99-4926-a29a-1328a2a7f190",
   "metadata": {},
   "source": [
    "## Debugging: When Reading Tracebacks Is Not Enough\n",
    "\n",
    "Alat standar Python untuk debugging interaktif adalah pdbdebugger Python. Debugger ini memungkinkan pengguna menelusuri kode baris demi baris untuk melihat apa yang mungkin menyebabkan kesalahan yang lebih rumit. Versi yang disempurnakan dengan IPython adalah ipdbdebugger IPython.\n",
    "\n",
    "Ada banyak cara untuk meluncurkan dan menggunakan kedua debugger ini; kami tidak akan membahasnya secara lengkap di sini. Lihat dokumentasi daring kedua utilitas ini untuk mempelajari lebih lanjut.\n",
    "\n",
    "Di IPython, mungkin antarmuka yang paling mudah digunakan untuk debugging adalah %debugperintah magic. Jika Anda memanggilnya setelah terjadi pengecualian, perintah tersebut akan secara otomatis membuka prompt debugging interaktif di titik pengecualian tersebut. ipdbPrompt ini memungkinkan Anda menjelajahi status tumpukan saat ini, menjelajahi variabel yang tersedia, dan bahkan menjalankan perintah Python!\n",
    "\n",
    "Mari kita lihat pengecualian terbaru, lalu lakukan beberapa tugas dasar–cetak nilai adan b, dan ketik quituntuk keluar dari sesi debugging:"
   ]
  },
  {
   "cell_type": "code",
   "execution_count": 12,
   "id": "c477c334-a94e-43a3-b54c-10564c4d68f9",
   "metadata": {},
   "outputs": [
    {
     "name": "stdout",
     "output_type": "stream",
     "text": [
      "> \u001b[32m/tmp/ipykernel_1991/4021589855.py\u001b[39m(\u001b[92m2\u001b[39m)\u001b[36mfunc1\u001b[39m\u001b[34m()\u001b[39m\n",
      "\u001b[32m      1\u001b[39m \u001b[38;5;28;01mdef\u001b[39;00m func1(a, b):\n",
      "\u001b[32m----> 2\u001b[39m     \u001b[38;5;28;01mreturn\u001b[39;00m a / b\n",
      "\u001b[32m      3\u001b[39m \n",
      "\u001b[32m      4\u001b[39m \u001b[38;5;28;01mdef\u001b[39;00m func2(x):\n",
      "\u001b[32m      5\u001b[39m     a = x\n",
      "\n"
     ]
    },
    {
     "name": "stdin",
     "output_type": "stream",
     "text": [
      "ipdb>  print(a)\n"
     ]
    },
    {
     "name": "stdout",
     "output_type": "stream",
     "text": [
      "1\n"
     ]
    },
    {
     "name": "stdin",
     "output_type": "stream",
     "text": [
      "ipdb>  print(b)\n"
     ]
    },
    {
     "name": "stdout",
     "output_type": "stream",
     "text": [
      "0\n"
     ]
    },
    {
     "name": "stdin",
     "output_type": "stream",
     "text": [
      "ipdb>  quit\n"
     ]
    }
   ],
   "source": [
    "%debug"
   ]
  },
  {
   "cell_type": "markdown",
   "id": "27ccf219-34cb-4865-855c-17d5b85b45b3",
   "metadata": {},
   "source": [
    "Debugger interaktif memungkinkan lebih dari ini–kita bahkan dapat naik dan turun melalui tumpukan dan menjelajahi nilai variabel di sana:"
   ]
  },
  {
   "cell_type": "code",
   "execution_count": 13,
   "id": "95184159-67a4-462a-a95c-2a13d1b4f948",
   "metadata": {},
   "outputs": [
    {
     "name": "stdout",
     "output_type": "stream",
     "text": [
      "> \u001b[32m/tmp/ipykernel_1991/4021589855.py\u001b[39m(\u001b[92m2\u001b[39m)\u001b[36mfunc1\u001b[39m\u001b[34m()\u001b[39m\n",
      "\u001b[32m      1\u001b[39m \u001b[38;5;28;01mdef\u001b[39;00m func1(a, b):\n",
      "\u001b[32m----> 2\u001b[39m     \u001b[38;5;28;01mreturn\u001b[39;00m a / b\n",
      "\u001b[32m      3\u001b[39m \n",
      "\u001b[32m      4\u001b[39m \u001b[38;5;28;01mdef\u001b[39;00m func2(x):\n",
      "\u001b[32m      5\u001b[39m     a = x\n",
      "\n"
     ]
    },
    {
     "name": "stdin",
     "output_type": "stream",
     "text": [
      "ipdb>  up\n"
     ]
    },
    {
     "name": "stdout",
     "output_type": "stream",
     "text": [
      "> \u001b[32m/tmp/ipykernel_1991/4021589855.py\u001b[39m(\u001b[92m7\u001b[39m)\u001b[36mfunc2\u001b[39m\u001b[34m()\u001b[39m\n",
      "\u001b[32m      3\u001b[39m \n",
      "\u001b[32m      4\u001b[39m \u001b[38;5;28;01mdef\u001b[39;00m func2(x):\n",
      "\u001b[32m      5\u001b[39m     a = x\n",
      "\u001b[32m      6\u001b[39m     b = x - \u001b[32m1\u001b[39m\n",
      "\u001b[32m----> 7\u001b[39m     \u001b[38;5;28;01mreturn\u001b[39;00m func1(a, b)\n",
      "\n"
     ]
    },
    {
     "name": "stdin",
     "output_type": "stream",
     "text": [
      "ipdb>  print(x)\n"
     ]
    },
    {
     "name": "stdout",
     "output_type": "stream",
     "text": [
      "1\n"
     ]
    },
    {
     "name": "stdin",
     "output_type": "stream",
     "text": [
      "ipdb>  down\n"
     ]
    },
    {
     "name": "stdout",
     "output_type": "stream",
     "text": [
      "> \u001b[32m/tmp/ipykernel_1991/4021589855.py\u001b[39m(\u001b[92m2\u001b[39m)\u001b[36mfunc1\u001b[39m\u001b[34m()\u001b[39m\n",
      "\u001b[32m      1\u001b[39m \u001b[38;5;28;01mdef\u001b[39;00m func1(a, b):\n",
      "\u001b[32m----> 2\u001b[39m     \u001b[38;5;28;01mreturn\u001b[39;00m a / b\n",
      "\u001b[32m      3\u001b[39m \n",
      "\u001b[32m      4\u001b[39m \u001b[38;5;28;01mdef\u001b[39;00m func2(x):\n",
      "\u001b[32m      5\u001b[39m     a = x\n",
      "\n"
     ]
    },
    {
     "name": "stdin",
     "output_type": "stream",
     "text": [
      "ipdb>  quit\n"
     ]
    }
   ],
   "source": [
    "%debug"
   ]
  },
  {
   "cell_type": "markdown",
   "id": "cde7f09b-e9dc-4583-a534-8a1250563dde",
   "metadata": {},
   "source": [
    "Hal ini memungkinkan Anda mengetahui dengan cepat tidak hanya apa yang menyebabkan kesalahan, tetapi juga fungsi pemanggilan apa yang menyebabkan kesalahan tersebut.\n",
    "\n",
    "Jika Anda ingin debugger diluncurkan secara otomatis setiap kali pengecualian dimunculkan, Anda dapat menggunakan %pdbfungsi ajaib untuk mengaktifkan perilaku otomatis ini:"
   ]
  },
  {
   "cell_type": "code",
   "execution_count": 4,
   "id": "7021ff51-65de-4d51-893a-ab313d401e92",
   "metadata": {},
   "outputs": [
    {
     "name": "stdout",
     "output_type": "stream",
     "text": [
      "Exception reporting mode: Plain\n",
      "Automatic pdb calling has been turned ON\n"
     ]
    },
    {
     "ename": "ZeroDivisionError",
     "evalue": "division by zero",
     "output_type": "error",
     "traceback": [
      "Traceback \u001b[36m(most recent call last)\u001b[39m:\n",
      "  Cell \u001b[92mIn[4]\u001b[39m\u001b[92m, line 3\u001b[39m\n    func2(1)\n",
      "  Cell \u001b[92mIn[3]\u001b[39m\u001b[92m, line 7\u001b[39m in \u001b[95mfunc2\u001b[39m\n    return func1(a, b)\n",
      "\u001b[36m  \u001b[39m\u001b[36mCell\u001b[39m\u001b[36m \u001b[39m\u001b[32mIn[3]\u001b[39m\u001b[32m, line 2\u001b[39m\u001b[36m in \u001b[39m\u001b[35mfunc1\u001b[39m\n\u001b[31m    \u001b[39m\u001b[31mreturn a / b\u001b[39m\n",
      "\u001b[31mZeroDivisionError\u001b[39m\u001b[31m:\u001b[39m division by zero\n"
     ]
    },
    {
     "name": "stdout",
     "output_type": "stream",
     "text": [
      "> \u001b[32m/tmp/ipykernel_589/4021589855.py\u001b[39m(\u001b[92m2\u001b[39m)\u001b[36mfunc1\u001b[39m\u001b[34m()\u001b[39m\n",
      "\u001b[32m      1\u001b[39m \u001b[38;5;28;01mdef\u001b[39;00m func1(a, b):\n",
      "\u001b[32m----> 2\u001b[39m     \u001b[38;5;28;01mreturn\u001b[39;00m a / b\n",
      "\u001b[32m      3\u001b[39m \n",
      "\u001b[32m      4\u001b[39m \u001b[38;5;28;01mdef\u001b[39;00m func2(x):\n",
      "\u001b[32m      5\u001b[39m     a = x\n",
      "\n"
     ]
    },
    {
     "name": "stdin",
     "output_type": "stream",
     "text": [
      "ipdb>  print(b)\n"
     ]
    },
    {
     "name": "stdout",
     "output_type": "stream",
     "text": [
      "0\n"
     ]
    },
    {
     "name": "stdin",
     "output_type": "stream",
     "text": [
      "ipdb>  quit\n"
     ]
    }
   ],
   "source": [
    "%xmode Plain\n",
    "%pdb on\n",
    "func2(1)"
   ]
  },
  {
   "cell_type": "markdown",
   "id": "204520a2-96c2-4ce7-9570-47e44fb886e2",
   "metadata": {},
   "source": [
    "Terakhir, jika Anda memiliki skrip yang ingin dijalankan dari awal dalam mode interaktif, Anda dapat menjalankannya dengan perintah %run -d, dan menggunakan nextperintah tersebut untuk menelusuri baris kode secara interaktif."
   ]
  },
  {
   "cell_type": "code",
   "execution_count": 5,
   "id": "5bc4540a-00b4-41bb-9477-3f507216719f",
   "metadata": {},
   "outputs": [
    {
     "ename": "Exception",
     "evalue": "you must provide at least a filename.",
     "output_type": "error",
     "traceback": [
      "Traceback \u001b[36m(most recent call last)\u001b[39m:\n",
      "\u001b[36m  \u001b[39m\u001b[36mFile \u001b[39m\u001b[32m~/.local/lib/python3.12/site-packages/IPython/core/magics/execution.py:727\u001b[39m\u001b[36m in \u001b[39m\u001b[35mrun\u001b[39m\n\u001b[31m    \u001b[39m\u001b[31mfpath = arg_lst[0]\u001b[39m\n",
      "\u001b[31mIndexError\u001b[39m\u001b[31m:\u001b[39m list index out of range\n",
      "\nThe above exception was the direct cause of the following exception:\n",
      "Traceback \u001b[36m(most recent call last)\u001b[39m:\n",
      "  Cell \u001b[92mIn[5]\u001b[39m\u001b[92m, line 1\u001b[39m\n    get_ipython().run_line_magic('run', '-d')\n",
      "  File \u001b[92m~/.local/lib/python3.12/site-packages/IPython/core/interactiveshell.py:2504\u001b[39m in \u001b[95mrun_line_magic\u001b[39m\n    result = fn(*args, **kwargs)\n",
      "\u001b[36m  \u001b[39m\u001b[36mFile \u001b[39m\u001b[32m~/.local/lib/python3.12/site-packages/IPython/core/magics/execution.py:731\u001b[39m\u001b[36m in \u001b[39m\u001b[35mrun\u001b[39m\n\u001b[31m    \u001b[39m\u001b[31mraise Exception(msg) from e\u001b[39m\n",
      "\u001b[31mException\u001b[39m\u001b[31m:\u001b[39m you must provide at least a filename.\n"
     ]
    },
    {
     "name": "stdout",
     "output_type": "stream",
     "text": [
      "> \u001b[32m/home/codespace/.local/lib/python3.12/site-packages/IPython/core/magics/execution.py\u001b[39m(\u001b[92m731\u001b[39m)\u001b[36mrun\u001b[39m\u001b[34m()\u001b[39m\n",
      "\u001b[32m    729\u001b[39m         \u001b[38;5;28;01mexcept\u001b[39;00m IndexError \u001b[38;5;28;01mas\u001b[39;00m e:\n",
      "\u001b[32m    730\u001b[39m             msg = \u001b[33m'you must provide at least a filename.'\u001b[39m\n",
      "\u001b[32m--> 731\u001b[39m             \u001b[38;5;28;01mraise\u001b[39;00m Exception(msg) \u001b[38;5;28;01mfrom\u001b[39;00m e\n",
      "\u001b[32m    732\u001b[39m         \u001b[38;5;28;01mexcept\u001b[39;00m IOError \u001b[38;5;28;01mas\u001b[39;00m e:\n",
      "\u001b[32m    733\u001b[39m             \u001b[38;5;28;01mtry\u001b[39;00m:\n",
      "\n"
     ]
    },
    {
     "name": "stdin",
     "output_type": "stream",
     "text": [
      "ipdb>  next\n"
     ]
    }
   ],
   "source": [
    "%run -d"
   ]
  },
  {
   "cell_type": "markdown",
   "id": "b6963afd-95ee-49f2-bb27-a8c17715757a",
   "metadata": {},
   "source": [
    "## Daftar sebagian perintah debugging"
   ]
  },
  {
   "cell_type": "markdown",
   "id": "8289cc39-e22e-45d8-bf1a-7639b0dca3ab",
   "metadata": {},
   "source": [
    "Ada lebih banyak lagi perintah yang tersedia untuk debugging interaktif daripada yang kami cantumkan di sini; tabel berikut berisi deskripsi beberapa perintah yang lebih umum dan berguna:\n",
    "\n",
    "Memerintah\tKeterangan\n",
    "- list\t     Menampilkan lokasi saat ini dalam file\n",
    "- h (elp)\t     Menampilkan daftar perintah, atau menemukan bantuan pada perintah tertentu\n",
    "- q (uit)\t     Keluar dari debugger dan program\n",
    "- c (ontinue)\t Keluar dari debugger, lanjutkan dalam program\n",
    "- n (ext)\t     Lanjut ke langkah berikutnya dari program\n",
    "- <enter>\t     Ulangi perintah sebelumnya\n",
    "- p (rint)   \t Variabel cetak\n",
    "- s (tep)\t     Masuk ke subrutin\n",
    "- r (eturn)\tKembali keluar dari subrutin"
   ]
  },
  {
   "cell_type": "markdown",
   "id": "9d7e1796-2cf9-4009-b0fd-580370628713",
   "metadata": {},
   "source": [
    "referensi by : (https://jakevdp.github.io/PythonDataScienceHandbook/01.00-ipython-beyond-normal-python.html)"
   ]
  },
  {
   "cell_type": "code",
   "execution_count": null,
   "id": "e46b6de4-6ac0-4db5-bb7b-3f340b758e01",
   "metadata": {},
   "outputs": [],
   "source": []
  }
 ],
 "metadata": {
  "kernelspec": {
   "display_name": "Python 3 (ipykernel)",
   "language": "python",
   "name": "python3"
  },
  "language_info": {
   "codemirror_mode": {
    "name": "ipython",
    "version": 3
   },
   "file_extension": ".py",
   "mimetype": "text/x-python",
   "name": "python",
   "nbconvert_exporter": "python",
   "pygments_lexer": "ipython3",
   "version": "3.12.1"
  }
 },
 "nbformat": 4,
 "nbformat_minor": 5
}
