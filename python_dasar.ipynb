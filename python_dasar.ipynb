{
 "cells": [
  {
   "cell_type": "markdown",
   "id": "c7fbb106",
   "metadata": {},
   "source": [
    "## **Perintah Dasar Python** \n",
    "\n",
    "Untuk menguji dan menjalankan Python dari baris perintah. Di Jupyter Notebook ini,  akan mensimulasikannya. Anda dapat mengetikkan perintah di kolom dan menjalankannya."
   ]
  },
  {
   "cell_type": "markdown",
   "id": "07c01a91",
   "metadata": {},
   "source": [
    "print('Hello, World')"
   ]
  },
  {
   "cell_type": "markdown",
   "id": "e8f2daa2",
   "metadata": {},
   "source": [
    "Penulisan Python yang benar meliputi sifat case-sensitive (huruf besar/kecil berbeda), penggunaan indentasi untuk mendefinisikan blok kode, penempatan titik dua (:) untuk memulai blok, penulisan komentar dengan tanda pagar (#), serta penamaan identifier yang dimulai dengan huruf atau underscore dan tidak boleh menggunakan keyword Python"
   ]
  },
  {
   "cell_type": "code",
   "execution_count": null,
   "id": "89e502ff",
   "metadata": {},
   "outputs": [],
   "source": [
    "# penulisan perintah python\n",
    "print(\"Mary had a little lamb\")\n",
    "print(\"it's fleece was white as snow;\")\n",
    "print(\"and everywhere that Mary went\", end = \" \")\n",
    "print(\"her lamb was sure to go.\")"
   ]
  },
  {
   "cell_type": "markdown",
   "id": "de441785",
   "metadata": {},
   "source": [
    "## Running External Code\n",
    "\n",
    "Saat Anda mulai mengembangkan kode yang lebih ekstensif, Anda kemungkinan akan mendapati diri Anda bekerja di IPython untuk eksplorasi interaktif, serta editor teks untuk menyimpan kode yang ingin Anda gunakan kembali. Daripada menjalankan kode ini di jendela baru, akan lebih mudah untuk menjalankannya di dalam sesi IPython Anda. Ini dapat dilakukan dengan perintah %run.\n",
    "\n",
    "file test.py\n",
    "\n",
    "```python\n",
    "`def square(x):\n",
    "    \"\"\"square a number\"\"\"\n",
    "    return x ** 2\n",
    "\n",
    "for N in range(1, 4):\n",
    "    print(N, \"squared is\", square(N))`\n",
    "```"
   ]
  },
  {
