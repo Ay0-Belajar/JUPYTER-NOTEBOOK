{
 "cells": [
  {
   "cell_type": "markdown",
   "id": "c7fbb106",
   "metadata": {},
   "source": [
    "##### **Perintah Dasar Python**\n",
    "Untuk menguji dan menjalankan Python dari baris perintah. Di Jupyter Notebook ini,  akan mensimulasikannya. Anda dapat mengetikkan perintah di kolom dan menjalankannya."
   ]
  },
  {
   "cell_type": "markdown",
   "id": "07c01a91",
   "metadata": {},
   "source": [
    "print('Hello, World')"
   ]
  },
  {
   "cell_type": "markdown",
   "id": "e8f2daa2",
   "metadata": {},
   "source": [
    "Penulisan Python yang benar meliputi sifat case-sensitive (huruf besar/kecil berbeda), penggunaan indentasi untuk mendefinisikan blok kode, penempatan titik dua (:) untuk memulai blok, penulisan komentar dengan tanda pagar (#), serta penamaan identifier yang dimulai dengan huruf atau underscore dan tidak boleh menggunakan keyword Python"
   ]
  },
  {
   "cell_type": "code",
   "execution_count": null,
   "id": "89e502ff",
   "metadata": {},
   "outputs": [],
   "source": [
    "# penulisan perintah python\n",
    "print(\"Mary had a little lamb\")\n",
    "print(\"it's fleece was white as snow;\")\n",
    "print(\"and everywhere that Mary went\", end = \" \")\n",
    "print(\"her lamb was sure to go.\")"
   ]
  }
 ],
 "metadata": {
  "kernelspec": {
   "display_name": "Python 3",
   "language": "python",
   "name": "python3"
  },
  "language_info": {
   "codemirror_mode": {
    "name": "ipython",
    "version": 3
   },
   "file_extension": ".py",
   "mimetype": "text/x-python",
   "name": "python",
   "nbconvert_exporter": "python",
   "pygments_lexer": "ipython3",
   "version": "3.12.1"
  }
 },
 "nbformat": 4,
 "nbformat_minor": 5
}

