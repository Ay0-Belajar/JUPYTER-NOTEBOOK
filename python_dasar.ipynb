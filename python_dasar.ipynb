{
 "cells": [
  {
   "cell_type": "markdown",
   "id": "c7fbb106",
   "metadata": {},
   "source": [
    "## **Perintah Dasar Python** \n",
    "\n",
    "Untuk menguji dan menjalankan Python dari baris perintah. Di Jupyter Notebook ini,  akan mensimulasikannya. Anda dapat mengetikkan perintah di kolom dan menjalankannya."
   ]
  },
  {
   "cell_type": "markdown",
   "id": "07c01a91",
   "metadata": {},
   "source": [
    "print('Hello, World')"
   ]
  },
  {
   "cell_type": "markdown",
   "id": "e8f2daa2",
   "metadata": {},
   "source": [
    "Penulisan Python yang benar meliputi sifat case-sensitive (huruf besar/kecil berbeda), penggunaan indentasi untuk mendefinisikan blok kode, penempatan titik dua (:) untuk memulai blok, penulisan komentar dengan tanda pagar (#), serta penamaan identifier yang dimulai dengan huruf atau underscore dan tidak boleh menggunakan keyword Python"
   ]
  },
  {
   "cell_type": "code",
   "execution_count": null,
   "id": "89e502ff",
   "metadata": {},
   "outputs": [],
   "source": [
    "# penulisan perintah python\n",
    "print(\"Mary had a little lamb\")\n",
    "print(\"it's fleece was white as snow;\")\n",
    "print(\"and everywhere that Mary went\", end = \" \")\n",
    "print(\"her lamb was sure to go.\")"
   ]
  },
  {
   "cell_type": "markdown",
   "id": "de441785",
   "metadata": {},
   "source": [
    "## Running External Code\n",
    "\n",
    "Saat Anda mulai mengembangkan kode yang lebih ekstensif, Anda kemungkinan akan mendapati diri Anda bekerja di IPython untuk eksplorasi interaktif, serta editor teks untuk menyimpan kode yang ingin Anda gunakan kembali. Daripada menjalankan kode ini di jendela baru, akan lebih mudah untuk menjalankannya di dalam sesi IPython Anda. Ini dapat dilakukan dengan perintah %run.\n",
    "\n",
    "file test.py\n",
    "\n",
    "```python\n",
    "`def square(x):\n",
    "    \"\"\"square a number\"\"\"\n",
    "    return x ** 2\n",
    "\n",
    "for N in range(1, 4):\n",
    "    print(N, \"squared is\", square(N))`\n",
    "```"
   ]
  },
  {
   "cell_type": "code",
   "execution_count": null,
   "id": "113e3d0c",
   "metadata": {},
   "outputs": [],
   "source": [
    "%run test.py"
   ]
  },
  {
   "cell_type": "markdown",
   "id": "275a1c72",
   "metadata": {},
   "source": [
    "Perhatikan juga bahwa setelah Anda menjalankan skrip ini, fungsi apa pun yang didefinisikan di dalamnya tersedia untuk digunakan dalam sesi IPython Anda:"
   ]
  },
  {
   "cell_type": "code",
   "execution_count": null,
   "id": "48da5595",
   "metadata": {},
   "outputs": [],
   "source": [
    "square(5)"
   ]
  },
  {
   "cell_type": "code",
   "execution_count": null,
   "id": "8a833226",
   "metadata": {},
   "outputs": [],
   "source": [
    "%timeit L = [n ** 2 for n in range(1000)]"
   ]
  },
  {
   "cell_type": "markdown",
   "id": "de33eeb4",
   "metadata": {},
   "source": [
    "## Timing Code Execution\n",
    "\n",
    "Contoh lain dari fungsi ajaib yang berguna adalah %timeit, yang secara otomatis akan menentukan waktu eksekusi pernyataan Python satu baris setelahnya. Misalnya, kita mungkin ingin memeriksa kinerja looping"
   ]
  },
  {
   "cell_type": "code",
   "execution_count": null,
   "id": "1531e249",
   "metadata": {},
   "outputs": [],
   "source": [
    "%timeit L = [n ** 2 for n in range(1000)]"
   ]
  },
  {
   "cell_type": "code",
   "execution_count": null,
   "id": "f07b9047",
   "metadata": {},
   "outputs": [],
   "source": [
    "%%timeit\n",
    "   ...: L = []\n",
    "   ...: for n in range(1000):\n",
    "   ...:     L.append(n ** 2)\n",
    "   ...: "
   ]
  }
 ],
 "metadata": {
  "kernelspec": {
   "display_name": "Python 3",
   "language": "python",
   "name": "python3"
  },
  "language_info": {
   "codemirror_mode": {
    "name": "ipython",
    "version": 3
   },
   "file_extension": ".py",
   "mimetype": "text/x-python",
   "name": "python",
   "nbconvert_exporter": "python",
   "pygments_lexer": "ipython3",
   "version": "3.12.1"
  }
 },
 "nbformat": 4,
 "nbformat_minor": 5
}

