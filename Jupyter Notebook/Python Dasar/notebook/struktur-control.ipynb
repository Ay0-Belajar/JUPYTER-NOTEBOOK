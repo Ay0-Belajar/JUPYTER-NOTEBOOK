{
 "cells": [
  {
   "cell_type": "markdown",
   "id": "60c2d829-2772-4341-8d50-c988fdcef828",
   "metadata": {},
   "source": [
    "Struktur kontrol if, for, dan while di Python digunakan untuk mengendalikan alur eksekusi program. if digunakan untuk mengambil keputusan berdasarkan kondisi, for untuk melakukan iterasi berulang melalui sebuah koleksi atau rentang, dan while untuk mengulang blok kode selama suatu kondisi tetap benar. "
   ]
  },
  {
   "cell_type": "markdown",
   "id": "e59c5cf3-bdd9-447f-89a4-719466e5d672",
   "metadata": {},
   "source": [
    "Struktur Kontrol if, elif, else (Pengambilan Keputusan)\n",
    "Struktur ini digunakan untuk menjalankan blok kode yang berbeda berdasarkan apakah suatu kondisi bernilai True atau False. \n",
    "if: Mengeksekusi blok kode jika kondisi yang diberikan True. \n",
    "elif: (singkatan dari else if) Mengevaluasi kondisi lain jika kondisi if sebelumnya False, dan mengeksekusi blok kode jika kondisi ini True. \n",
    "else: Mengeksekusi blok kode jika semua kondisi if dan elif sebelumnya False"
   ]
  },
  {
   "cell_type": "code",
   "execution_count": 1,
   "id": "d453a599-72e6-4c84-a3e8-2bea91d45156",
   "metadata": {},
   "outputs": [
    {
     "name": "stdout",
     "output_type": "stream",
     "text": [
      "Nilai Anda B\n"
     ]
    }
   ],
   "source": [
    "nilai = 80\n",
    "\n",
    "if nilai >= 90:\n",
    "    print(\"Nilai Anda A\")\n",
    "elif nilai >= 80:\n",
    "    print(\"Nilai Anda B\")\n",
    "elif nilai >= 70:\n",
    "    print(\"Nilai Anda C\")\n",
    "else:\n",
    "    print(\"Nilai Anda D\")"
   ]
  },
  {
   "cell_type": "markdown",
   "id": "d28426b9-5baa-4e1f-80b5-8e913fbb5d95",
   "metadata": {},
   "source": [
    "Struktur Kontrol for (Perulangan)\n",
    "Digunakan untuk mengulang suatu blok kode untuk setiap item dalam urutan (seperti daftar, tuple, string, atau rentang). \n",
    "Sintaks: for item in urutan: diikuti dengan blok kode yang diindentasi."
   ]
  },
  {
   "cell_type": "code",
   "execution_count": 1,
   "id": "f6db08fa-ab77-49f4-a456-72a0501fe5ed",
   "metadata": {},
   "outputs": [
    {
     "name": "stdout",
     "output_type": "stream",
     "text": [
      "apel\n",
      "pisang\n",
      "ceri\n",
      "0\n",
      "1\n",
      "2\n",
      "3\n",
      "4\n"
     ]
    }
   ],
   "source": [
    "# Iterasi melalui daftar\n",
    "buah = [\"apel\", \"pisang\", \"ceri\"]\n",
    "for b in buah:\n",
    "    print(b)\n",
    "\n",
    "# Iterasi melalui rentang angka\n",
    "for i in range(5): # Akan mencetak 0, 1, 2, 3, 4\n",
    "    print(i)"
   ]
  },
  {
   "cell_type": "markdown",
   "id": "80b93196-5e12-44e5-bae2-a39f8cdf35c7",
   "metadata": {},
   "source": [
    "Struktur Kontrol while (Perulangan)\n",
    "Digunakan untuk mengulang suatu blok kode selama kondisi tertentu tetap True. \n",
    "Sintaks: while kondisi: diikuti dengan blok kode yang diindentasi. \n",
    "Kondisi: Dievaluasi di awal setiap iterasi. Jika kondisi False, loop akan berakhir. "
   ]
  },
  {
   "cell_type": "code",
   "execution_count": 2,
   "id": "23b30e3c-e300-4c38-8724-b26c9b6141ba",
   "metadata": {},
   "outputs": [
    {
     "name": "stdout",
     "output_type": "stream",
     "text": [
      "0\n",
      "1\n",
      "2\n",
      "3\n",
      "4\n"
     ]
    }
   ],
   "source": [
    "hitung = 0\n",
    "while hitung < 5:\n",
    "    print(hitung)\n",
    "    hitung += 1 # Penting: untuk menghindari loop tak terbatas"
   ]
  },
  {
   "cell_type": "markdown",
   "id": "3848c002-5e68-41ff-aabc-e6f43305176e",
   "metadata": {},
   "source": [
    "Penggunaan break dan continue dalam Loop for dan while \n",
    "break: Menghentikan eksekusi loop sepenuhnya dan melanjutkan ke baris kode setelah loop.\n",
    "continue: Melompati sisa kode dalam iterasi saat ini dan langsung melanjut ke iterasi berikutnya."
   ]
  },
  {
   "cell_type": "code",
   "execution_count": 3,
   "id": "3162934a-18ea-4b56-aaa4-1cda7e9ac3e1",
   "metadata": {},
   "outputs": [
    {
     "name": "stdout",
     "output_type": "stream",
     "text": [
      "apple\n",
      "banana\n",
      "Found banana, breaking the loop.\n"
     ]
    }
   ],
   "source": [
    "    fruits = [\"apple\", \"banana\", \"cherry\"]\n",
    "    for fruit in fruits:\n",
    "        print(fruit)\n",
    "        if fruit == \"banana\":\n",
    "            print(\"Found banana, breaking the loop.\")\n",
    "            break # Menghentikan loop ketika menemukan 'banana'\n",
    "    # Output:\n",
    "    # apple\n",
    "    # banana\n",
    "    # Found banana, breaking the loop."
   ]
  },
  {
   "cell_type": "code",
   "execution_count": null,
   "id": "5f7b0f05-1487-4d57-95ac-01b70875193c",
   "metadata": {},
   "outputs": [],
   "source": []
  }
 ],
 "metadata": {
  "kernelspec": {
   "display_name": "Python 3 (ipykernel)",
   "language": "python",
   "name": "python3"
  },
  "language_info": {
   "codemirror_mode": {
    "name": "ipython",
    "version": 3
   },
   "file_extension": ".py",
   "mimetype": "text/x-python",
   "name": "python",
   "nbconvert_exporter": "python",
   "pygments_lexer": "ipython3",
   "version": "3.12.1"
  }
 },
 "nbformat": 4,
 "nbformat_minor": 5
}

