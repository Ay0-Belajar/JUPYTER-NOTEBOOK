{
 "cells": [
  {
   "cell_type": "markdown",
   "metadata": {},
   "source": [
    "#Introduction  Python in Jupyter \n",
    "By __[Joko Bintarto]<br>\n",
    "\n",
    "\n",
    "## Contents\n",
    "### [Session 1 : ]\n",
    "### __[1.1. Perintar Dasar Python](PythonIntroCh1.ipynb)__\n",
    "### __[1.2. Variabel, tipe data dan operasi](PythonIntroCh1.ipynb)__\n",
    "### __[1.3. Struktur Kontrol (if, for dan While)](PythonIntroCh1.ipynb)__\n",
    "### [Session 2 : ]\n",
    "### __[2.1. Struktur Data](PythonIntroCh1.ipynb)__\n",
    "### __[2.2. Function](PythonIntroCh1.ipynb)__\n",
    "### __[2.3. Modul ](PythonIntroCh1.ipynb)__\n",
    "<br>\n",
    "<br>\n",
    "\n",
    "*This Jupyter Notebook has been developed based on \"Introduction  Python in Jupyterl\" by Joko Bintarto.*\n",
    "\n"   ]
  }
 ],
 "metadata": {
  "kernelspec": {
   "display_name": "Python 3",
   "language": "python",
   "name": "python3"
  },
  "language_info": {
   "codemirror_mode": {
    "name": "ipython",
    "version": 3
   },
   "file_extension": ".py",
   "mimetype": "text/x-python",
   "name": "python",
   "nbconvert_exporter": "python",
   "pygments_lexer": "ipython3",
   "version": "3.6.5"
  }
 },
 "nbformat": 4,
 "nbformat_minor": 2
}
